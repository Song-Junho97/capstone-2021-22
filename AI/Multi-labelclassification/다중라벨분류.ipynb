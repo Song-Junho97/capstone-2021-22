{
  "nbformat": 4,
  "nbformat_minor": 0,
  "metadata": {
    "accelerator": "GPU",
    "colab": {
      "name": "다중라벨분류의 사본",
      "provenance": [],
      "collapsed_sections": []
    },
    "kernelspec": {
      "display_name": "Python 3",
      "language": "python",
      "name": "python3"
    },
    "language_info": {
      "codemirror_mode": {
        "name": "ipython",
        "version": 3
      },
      "file_extension": ".py",
      "mimetype": "text/x-python",
      "name": "python",
      "nbconvert_exporter": "python",
      "pygments_lexer": "ipython3",
      "version": "3.8.3"
    }
  },
  "cells": [
    {
      "cell_type": "code",
      "metadata": {
        "id": "jy6sNiiPlcDw"
      },
      "source": [
        "from keras.preprocessing.image import ImageDataGenerator\n"
      ],
      "execution_count": 3,
      "outputs": []
    },
    {
      "cell_type": "code",
      "metadata": {
        "id": "1gGnOWJ0k3zI"
      },
      "source": [
        "# 이미지 제너레이터를 정의합니다.\n",
        "train_datagen = ImageDataGenerator(rescale=1. / 255)\n",
        "val_datagen = ImageDataGenerator(rescale=1. / 255)\n",
        "\n",
        "def get_steps(num_samples, batch_size):\n",
        "    if (num_samples % batch_size) > 0:\n",
        "        return (num_samples // batch_size) + 1\n",
        "    else:\n",
        "        return num_samples // batch_size"
      ],
      "execution_count": 4,
      "outputs": []
    },
    {
      "cell_type": "code",
      "metadata": {
        "id": "TKOlA-zbkm_o"
      },
      "source": [
        ""
      ],
      "execution_count": 1,
      "outputs": []
    },
    {
      "cell_type": "code",
      "metadata": {
        "id": "tu26RceZV5rq"
      },
      "source": [
        "from keras.models import Sequential\n",
        "from keras.layers.normalization import BatchNormalization\n",
        "from keras.layers.convolutional import Conv2D\n",
        "from keras.layers.convolutional import MaxPooling2D\n",
        "from keras.layers.core import Activation\n",
        "from keras.layers.core import Flatten\n",
        "from keras.layers.core import Dropout\n",
        "from keras.layers.core import Dense\n",
        "from keras import backend as K"
      ],
      "execution_count": 7,
      "outputs": []
    },
    {
      "cell_type": "code",
      "metadata": {
        "id": "AyeBPszDV8BO"
      },
      "source": [
        "class SmallerVGGNet:\n",
        "\t@staticmethod\n",
        "\tdef build(width, height, depth, classes, finalAct=\"softmax\"):\n",
        "\t\t# 인풋 이미지의 차원과, 채널에 해당하는 축을 설정하여 모델을 초기화합니다\n",
        "\t\t# \"channels_last\"는 채널의 축이 마지막에 오는 것을 의미합니다\n",
        "\t\tmodel = Sequential()\n",
        "\t\tinputShape = (height, width, depth)\n",
        "\t\tchanDim = -1\n",
        " \n",
        " \t\t# 만약 \"channels_first\"를 사용한다면, 인풋 이미지의 차원을\n",
        "\t\t# 그에 맞게 바꿔줍니다\n",
        "\t\tif K.image_data_format() == \"channels_first\":\n",
        "\t\t\tinputShape = (depth, height, width)\n",
        "\t\t\tchanDim = 1\n",
        "\n",
        "    # CONV => RELU => POOL\n",
        "\t\tmodel.add(Conv2D(32, (3, 3), padding=\"same\",\n",
        "\t\t\tinput_shape=inputShape))\n",
        "\t\tmodel.add(Activation(\"relu\"))\n",
        "\t\tmodel.add(BatchNormalization(axis=chanDim))\n",
        "\t\tmodel.add(MaxPooling2D(pool_size=(3, 3)))\n",
        "\t\tmodel.add(Dropout(0.25))\n",
        "  \n",
        "\n",
        "    # (CONV => RELU) * 2 => POOL\n",
        "\t\tmodel.add(Conv2D(64, (3, 3), padding=\"same\"))\n",
        "\t\tmodel.add(Activation(\"relu\"))\n",
        "\t\tmodel.add(BatchNormalization(axis=chanDim))\n",
        "\t\tmodel.add(Conv2D(64, (3, 3), padding=\"same\"))\n",
        "\t\tmodel.add(Activation(\"relu\"))\n",
        "\t\tmodel.add(BatchNormalization(axis=chanDim))\n",
        "\t\tmodel.add(MaxPooling2D(pool_size=(2, 2)))\n",
        "\t\tmodel.add(Dropout(0.25))\n",
        " \n",
        "\t\t# (CONV => RELU) * 2 => POOL\n",
        "\t\tmodel.add(Conv2D(128, (3, 3), padding=\"same\"))\n",
        "\t\tmodel.add(Activation(\"relu\"))\n",
        "\t\tmodel.add(BatchNormalization(axis=chanDim))\n",
        "\t\tmodel.add(Conv2D(128, (3, 3), padding=\"same\"))\n",
        "\t\tmodel.add(Activation(\"relu\"))\n",
        "\t\tmodel.add(BatchNormalization(axis=chanDim))\n",
        "\t\tmodel.add(MaxPooling2D(pool_size=(2, 2)))\n",
        "\t\tmodel.add(Dropout(0.25))\n",
        "  \n",
        "\n",
        "    # FC => RELU\n",
        "\t\tmodel.add(Flatten())\n",
        "\t\tmodel.add(Dense(1024))\n",
        "\t\tmodel.add(Activation(\"relu\"))\n",
        "\t\tmodel.add(BatchNormalization())\n",
        "\t\tmodel.add(Dropout(0.5))\n",
        " \n",
        " \t\t# 단일 라벨 분류는 *softmax* 활성화 함수를 사용합니다\n",
        "\t\t# 다중 라벨 분류는 *sigmoid* 활성화 함수를 사용합니다\n",
        "\t\tmodel.add(Dense(classes))\n",
        "\t\tmodel.add(Activation(finalAct))\n",
        " \n",
        " \t\t# 네트워크 아키텍처를 반환합니다\n",
        "\t\treturn model"
      ],
      "execution_count": 8,
      "outputs": []
    },
    {
      "cell_type": "code",
      "metadata": {
        "id": "aMDrYYnaZYI5"
      },
      "source": [
        "import matplotlib\n",
        "matplotlib.use(\"Agg\")\n",
        " \n",
        "# 필요한 패키지들을 가져옵니다\n",
        "from keras.preprocessing.image import ImageDataGenerator\n",
        "from keras.optimizers import Adam\n",
        "from keras.preprocessing.image import img_to_array\n",
        "from sklearn.preprocessing import MultiLabelBinarizer\n",
        "from sklearn.model_selection import train_test_split\n",
        "# from pyimagesearch.smallervggnet import SmallerVGGNet\n",
        "import matplotlib.pyplot as plt\n",
        "from imutils import paths\n",
        "import numpy as np\n",
        "import argparse\n",
        "import random\n",
        "import pickle\n",
        "import cv2\n",
        "import os"
      ],
      "execution_count": 11,
      "outputs": []
    },
    {
      "cell_type": "code",
      "metadata": {
        "colab": {
          "base_uri": "https://localhost:8080/",
          "height": 266
        },
        "id": "m9kog28EmPO1",
        "outputId": "2e7b7e8b-d790-4b03-b06e-b44f95ca3df6"
      },
      "source": [
        "# Make Generator\n",
        "train_generator = train_datagen.flow_from_dataframe(\n",
        "    dataframe=train_df,\n",
        "    directory='../../',\n",
        "    x_col = 'image',\n",
        "    y_col = class_col,\n",
        "    target_size = (96, 96),\n",
        "    color_mode='rgb',\n",
        "    class_mode='other',\n",
        "    batch_size=batch_size,\n",
        "    seed=42\n",
        ")\n",
        "\n",
        "val_generator = val_datagen.flow_from_dataframe(\n",
        "    dataframe=val_df,\n",
        "    directory='../../',\n",
        "    x_col = 'image',\n",
        "    y_col = class_col,\n",
        "    target_size = (96, 96),\n",
        "    color_mode='rgb',\n",
        "    class_mode='other',\n",
        "    batch_size=batch_size,\n",
        "    shuffle=True\n",
        ")"
      ],
      "execution_count": 6,
      "outputs": [
        {
          "output_type": "error",
          "ename": "NameError",
          "evalue": "ignored",
          "traceback": [
            "\u001b[0;31m---------------------------------------------------------------------------\u001b[0m",
            "\u001b[0;31mNameError\u001b[0m                                 Traceback (most recent call last)",
            "\u001b[0;32m<ipython-input-6-c3c9606b62a9>\u001b[0m in \u001b[0;36m<module>\u001b[0;34m()\u001b[0m\n\u001b[1;32m      1\u001b[0m \u001b[0;31m# Make Generator\u001b[0m\u001b[0;34m\u001b[0m\u001b[0;34m\u001b[0m\u001b[0;34m\u001b[0m\u001b[0m\n\u001b[0;32m----> 2\u001b[0;31m train_generator = train_datagen.flow_from_dataframe(\n\u001b[0m\u001b[1;32m      3\u001b[0m     \u001b[0mdataframe\u001b[0m\u001b[0;34m=\u001b[0m\u001b[0mtrain_df\u001b[0m\u001b[0;34m,\u001b[0m\u001b[0;34m\u001b[0m\u001b[0;34m\u001b[0m\u001b[0m\n\u001b[1;32m      4\u001b[0m     \u001b[0mdirectory\u001b[0m\u001b[0;34m=\u001b[0m\u001b[0;34m'../../'\u001b[0m\u001b[0;34m,\u001b[0m\u001b[0;34m\u001b[0m\u001b[0;34m\u001b[0m\u001b[0m\n\u001b[1;32m      5\u001b[0m     \u001b[0mx_col\u001b[0m \u001b[0;34m=\u001b[0m \u001b[0;34m'image'\u001b[0m\u001b[0;34m,\u001b[0m\u001b[0;34m\u001b[0m\u001b[0;34m\u001b[0m\u001b[0m\n",
            "\u001b[0;31mNameError\u001b[0m: name 'train_datagen' is not defined"
          ]
        }
      ]
    },
    {
      "cell_type": "code",
      "metadata": {
        "colab": {
          "base_uri": "https://localhost:8080/"
        },
        "id": "XHomeMjAJXcH",
        "outputId": "6845a465-e775-4286-95ab-11a35ae4d3d9"
      },
      "source": [
        "from google.colab import drive\n",
        "drive.mount('/content/drive')"
      ],
      "execution_count": 2,
      "outputs": [
        {
          "output_type": "stream",
          "text": [
            "Mounted at /content/drive\n"
          ],
          "name": "stdout"
        }
      ]
    },
    {
      "cell_type": "code",
      "metadata": {
        "id": "IxTInQjbnLOK"
      },
      "source": [
        "!unzip -qq \"/content/drive/MyDrive/이게뭐약/AI/색깔모양분류/all/Allcolorimg.zip\""
      ],
      "execution_count": 3,
      "outputs": []
    },
    {
      "cell_type": "code",
      "metadata": {
        "id": "WmWJrtMN8nhS"
      },
      "source": [
        "# import shutil\n",
        "\n",
        "# for filename in os.listdir('/content/colorimg4'):\n",
        "#   if os.path.isfile('/content/colorimg/'+filename): continue\n",
        "#   else : shutil.move('/content/colorimg4/'+filename,'/content/colorimg/')\n",
        "\n",
        "# !zip -r /content/drive/MyDrive/이게뭐약/AI/색깔모양분류/all/Allcolorimg.zip ./colorimg/"
      ],
      "execution_count": 17,
      "outputs": []
    },
    {
      "cell_type": "code",
      "metadata": {
        "colab": {
          "base_uri": "https://localhost:8080/"
        },
        "id": "bA3jUszee9vg",
        "outputId": "499adeb0-47a4-4d94-9b67-40fc43986c64"
      },
      "source": [
        "import os\n",
        "len(os.listdir('/content/colorimg'))"
      ],
      "execution_count": 4,
      "outputs": [
        {
          "output_type": "execute_result",
          "data": {
            "text/plain": [
              "19966"
            ]
          },
          "metadata": {
            "tags": []
          },
          "execution_count": 4
        }
      ]
    },
    {
      "cell_type": "code",
      "metadata": {
        "id": "xFk5BTwVhWkC"
      },
      "source": [
        "os.listdir('/content/colorimg')"
      ],
      "execution_count": null,
      "outputs": []
    },
    {
      "cell_type": "code",
      "metadata": {
        "id": "lFFD6fvDhBJQ"
      },
      "source": [
        ""
      ],
      "execution_count": null,
      "outputs": []
    },
    {
      "cell_type": "code",
      "metadata": {
        "id": "Fuimi3JQJjXZ"
      },
      "source": [
        "# # construct the argument parse and parse the arguments\n",
        "# ap = argparse.ArgumentParser()\n",
        "# ap.add_argument(\"-d\", \"--dataset\", required=True, help=\"path to input dataset (i.e., directory of images)\")\n",
        "# ap.add_argument(\"-m\", \"--model\", required=True, help=\"path to output model\")\n",
        "# ap.add_argument(\"-l\", \"--labelbin\", required=True, help=\"path to output label binarizer\")\n",
        "# ap.add_argument(\"-p\", \"--plot\", type=str, default=\"plot.png\", help=\"path to output accuracy/loss plot\")\n",
        "# args = vars(ap.parse_args())"
      ],
      "execution_count": null,
      "outputs": []
    },
    {
      "cell_type": "code",
      "metadata": {
        "id": "pv36MufVOoki"
      },
      "source": [
        "import easydict\n",
        " \n",
        "args = easydict.EasyDict({\n",
        "        \"dataset\": True,\n",
        "        \"model\": True,\n",
        "        \"labelbin\": True,\n",
        "        \"plot\": \"plot.jpg\"\n",
        "\n",
        "})"
      ],
      "execution_count": 14,
      "outputs": []
    },
    {
      "cell_type": "code",
      "metadata": {
        "id": "ynqoW_m6N-zM"
      },
      "source": [
        "EPOCHS = 75\n",
        "INIT_LR = 1e-3\n",
        "BS = 32\n",
        "IMAGE_DIMS = (96, 96, 3)"
      ],
      "execution_count": 15,
      "outputs": []
    },
    {
      "cell_type": "code",
      "metadata": {
        "colab": {
          "base_uri": "https://localhost:8080/"
        },
        "id": "PTiMPfeYPcl2",
        "outputId": "80261e2d-078b-42ec-9422-ecc81c49bbe2"
      },
      "source": [
        "# 이미지 경로를 섞어줍니다\n",
        "print(\"[INFO] loading images...\")\n",
        "imagePaths = \"/content/colorimg\"\n",
        "# random.seed(42)\n",
        "# random.shuffle(imagePaths)\n",
        " \n"
      ],
      "execution_count": 16,
      "outputs": [
        {
          "output_type": "stream",
          "text": [
            "[INFO] loading images...\n"
          ],
          "name": "stdout"
        }
      ]
    },
    {
      "cell_type": "code",
      "metadata": {
        "id": "ngb7qzyyQU2R"
      },
      "source": [
        "file_list = os.listdir(imagePaths)"
      ],
      "execution_count": 17,
      "outputs": []
    },
    {
      "cell_type": "code",
      "metadata": {
        "id": "msI0uny3QbZZ"
      },
      "source": [
        "file_list"
      ],
      "execution_count": null,
      "outputs": []
    },
    {
      "cell_type": "code",
      "metadata": {
        "colab": {
          "base_uri": "https://localhost:8080/"
        },
        "id": "eb6OjHaw-24t",
        "outputId": "1deeeda9-5b7a-486b-dbbd-234827615295"
      },
      "source": [
        "file_list[9].split(\"-\")[0].split(\"_\")"
      ],
      "execution_count": 18,
      "outputs": [
        {
          "output_type": "execute_result",
          "data": {
            "text/plain": [
              "['장방형', '파랑']"
            ]
          },
          "metadata": {
            "tags": []
          },
          "execution_count": 18
        }
      ]
    },
    {
      "cell_type": "code",
      "metadata": {
        "id": "sBur5xNkulsf"
      },
      "source": [
        "# 데이터와 라벨을 초기화합니다\n",
        "data = []\n",
        "labels = []"
      ],
      "execution_count": 19,
      "outputs": []
    },
    {
      "cell_type": "code",
      "metadata": {
        "id": "NYWtQ70NPNpJ"
      },
      "source": [
        "# 인풋 이미지들에 대해 아래의 반복문을 수행합니다\n",
        "for imagePath in file_list:\n",
        "  image = cv2.imread('/content/colorimg/'+imagePath)\n",
        "  # print(image)\n",
        "  if image is not None : \n",
        "    image = cv2.resize(image,(IMAGE_DIMS[1],IMAGE_DIMS[0]))\n",
        "    image = img_to_array(image)\n",
        "    data.append(image)\n",
        " \n",
        "    # # # 이미지 경로에서 라벨을 추출한 후, 라벨 리스트를 업데이트합니다\n",
        "    l = label = imagePath.split(\"-\")[0].split(\"_\")\n",
        "    labels.append(l)"
      ],
      "execution_count": 20,
      "outputs": []
    },
    {
      "cell_type": "code",
      "metadata": {
        "id": "LS5heZjkFTtC",
        "colab": {
          "base_uri": "https://localhost:8080/"
        },
        "outputId": "0b2a9304-657c-4bd2-e995-8b17df8cf4cf"
      },
      "source": [
        "len(data)"
      ],
      "execution_count": 21,
      "outputs": [
        {
          "output_type": "execute_result",
          "data": {
            "text/plain": [
              "19961"
            ]
          },
          "metadata": {
            "tags": []
          },
          "execution_count": 21
        }
      ]
    },
    {
      "cell_type": "code",
      "metadata": {
        "colab": {
          "base_uri": "https://localhost:8080/"
        },
        "id": "bCWPnm86q6Zh",
        "outputId": "89a96e3f-558d-41f7-f8c8-770e8966e14f"
      },
      "source": [
        "labels[:10]"
      ],
      "execution_count": 22,
      "outputs": [
        {
          "output_type": "execute_result",
          "data": {
            "text/plain": [
              "[['원형', '하양'],\n",
              " ['타원형', '주황'],\n",
              " ['육각형', '파랑'],\n",
              " ['장방형', '초록'],\n",
              " ['장방형', '하양'],\n",
              " ['타원형', '갈색'],\n",
              " ['장방형', '갈색'],\n",
              " ['타원형', '주황'],\n",
              " ['타원형', '하양'],\n",
              " ['장방형', '파랑']]"
            ]
          },
          "metadata": {
            "tags": []
          },
          "execution_count": 22
        }
      ]
    },
    {
      "cell_type": "code",
      "metadata": {
        "id": "Ul8QK8b8q2sA",
        "colab": {
          "base_uri": "https://localhost:8080/"
        },
        "outputId": "9974666e-6933-43bc-c7d8-4ed35f925dad"
      },
      "source": [
        "data[:5]"
      ],
      "execution_count": 23,
      "outputs": [
        {
          "output_type": "execute_result",
          "data": {
            "text/plain": [
              "[array([[[236., 193., 166.],\n",
              "         [236., 193., 166.],\n",
              "         [236., 193., 166.],\n",
              "         ...,\n",
              "         [236., 193., 166.],\n",
              "         [236., 193., 166.],\n",
              "         [236., 193., 166.]],\n",
              " \n",
              "        [[236., 193., 166.],\n",
              "         [236., 193., 166.],\n",
              "         [236., 193., 166.],\n",
              "         ...,\n",
              "         [236., 193., 166.],\n",
              "         [236., 193., 166.],\n",
              "         [236., 193., 166.]],\n",
              " \n",
              "        [[236., 193., 166.],\n",
              "         [236., 193., 166.],\n",
              "         [236., 193., 166.],\n",
              "         ...,\n",
              "         [236., 193., 166.],\n",
              "         [236., 193., 166.],\n",
              "         [236., 193., 166.]],\n",
              " \n",
              "        ...,\n",
              " \n",
              "        [[235., 193., 164.],\n",
              "         [236., 193., 166.],\n",
              "         [236., 193., 166.],\n",
              "         ...,\n",
              "         [237., 192., 165.],\n",
              "         [236., 193., 166.],\n",
              "         [235., 193., 165.]],\n",
              " \n",
              "        [[236., 193., 164.],\n",
              "         [236., 193., 166.],\n",
              "         [236., 193., 166.],\n",
              "         ...,\n",
              "         [236., 193., 166.],\n",
              "         [236., 193., 166.],\n",
              "         [236., 193., 165.]],\n",
              " \n",
              "        [[235., 193., 164.],\n",
              "         [236., 193., 165.],\n",
              "         [236., 193., 165.],\n",
              "         ...,\n",
              "         [236., 193., 165.],\n",
              "         [236., 193., 166.],\n",
              "         [235., 193., 165.]]], dtype=float32), array([[[225., 206., 191.],\n",
              "         [225., 206., 191.],\n",
              "         [200., 185., 169.],\n",
              "         ...,\n",
              "         [225., 206., 191.],\n",
              "         [225., 206., 191.],\n",
              "         [225., 206., 191.]],\n",
              " \n",
              "        [[225., 206., 191.],\n",
              "         [225., 206., 191.],\n",
              "         [203., 187., 171.],\n",
              "         ...,\n",
              "         [225., 206., 191.],\n",
              "         [225., 206., 191.],\n",
              "         [225., 206., 191.]],\n",
              " \n",
              "        [[225., 206., 191.],\n",
              "         [221., 205., 188.],\n",
              "         [197., 182., 169.],\n",
              "         ...,\n",
              "         [225., 206., 191.],\n",
              "         [225., 206., 191.],\n",
              "         [225., 206., 191.]],\n",
              " \n",
              "        ...,\n",
              " \n",
              "        [[225., 206., 191.],\n",
              "         [225., 206., 191.],\n",
              "         [201., 185., 169.],\n",
              "         ...,\n",
              "         [225., 206., 191.],\n",
              "         [225., 206., 191.],\n",
              "         [225., 206., 191.]],\n",
              " \n",
              "        [[225., 206., 191.],\n",
              "         [225., 206., 191.],\n",
              "         [201., 185., 169.],\n",
              "         ...,\n",
              "         [225., 206., 191.],\n",
              "         [225., 206., 191.],\n",
              "         [225., 206., 191.]],\n",
              " \n",
              "        [[225., 206., 191.],\n",
              "         [225., 206., 191.],\n",
              "         [200., 185., 169.],\n",
              "         ...,\n",
              "         [225., 206., 191.],\n",
              "         [225., 206., 191.],\n",
              "         [225., 206., 191.]]], dtype=float32), array([[[236., 193., 166.],\n",
              "         [236., 193., 166.],\n",
              "         [216., 165., 136.],\n",
              "         ...,\n",
              "         [236., 193., 166.],\n",
              "         [236., 193., 166.],\n",
              "         [236., 193., 166.]],\n",
              " \n",
              "        [[236., 193., 166.],\n",
              "         [236., 193., 166.],\n",
              "         [219., 168., 139.],\n",
              "         ...,\n",
              "         [236., 193., 166.],\n",
              "         [236., 193., 166.],\n",
              "         [236., 193., 166.]],\n",
              " \n",
              "        [[236., 193., 166.],\n",
              "         [231., 192., 160.],\n",
              "         [217., 164., 135.],\n",
              "         ...,\n",
              "         [236., 193., 166.],\n",
              "         [236., 193., 166.],\n",
              "         [236., 193., 166.]],\n",
              " \n",
              "        ...,\n",
              " \n",
              "        [[236., 193., 166.],\n",
              "         [236., 193., 166.],\n",
              "         [216., 166., 135.],\n",
              "         ...,\n",
              "         [236., 193., 166.],\n",
              "         [236., 193., 166.],\n",
              "         [236., 193., 166.]],\n",
              " \n",
              "        [[236., 193., 166.],\n",
              "         [236., 193., 166.],\n",
              "         [216., 166., 135.],\n",
              "         ...,\n",
              "         [236., 193., 166.],\n",
              "         [236., 193., 166.],\n",
              "         [236., 193., 166.]],\n",
              " \n",
              "        [[236., 193., 166.],\n",
              "         [236., 193., 166.],\n",
              "         [216., 165., 136.],\n",
              "         ...,\n",
              "         [236., 193., 166.],\n",
              "         [236., 193., 166.],\n",
              "         [236., 193., 166.]]], dtype=float32), array([[[225., 206., 191.],\n",
              "         [225., 206., 191.],\n",
              "         [200., 185., 169.],\n",
              "         ...,\n",
              "         [225., 206., 191.],\n",
              "         [225., 206., 191.],\n",
              "         [225., 206., 191.]],\n",
              " \n",
              "        [[225., 206., 191.],\n",
              "         [225., 206., 191.],\n",
              "         [203., 187., 171.],\n",
              "         ...,\n",
              "         [225., 206., 191.],\n",
              "         [225., 206., 191.],\n",
              "         [225., 206., 191.]],\n",
              " \n",
              "        [[225., 206., 191.],\n",
              "         [221., 205., 188.],\n",
              "         [197., 182., 169.],\n",
              "         ...,\n",
              "         [225., 206., 191.],\n",
              "         [225., 206., 191.],\n",
              "         [225., 206., 191.]],\n",
              " \n",
              "        ...,\n",
              " \n",
              "        [[225., 206., 191.],\n",
              "         [225., 206., 191.],\n",
              "         [201., 185., 169.],\n",
              "         ...,\n",
              "         [225., 206., 191.],\n",
              "         [225., 206., 191.],\n",
              "         [225., 206., 191.]],\n",
              " \n",
              "        [[225., 206., 191.],\n",
              "         [225., 206., 191.],\n",
              "         [201., 185., 169.],\n",
              "         ...,\n",
              "         [225., 206., 191.],\n",
              "         [225., 206., 191.],\n",
              "         [225., 206., 191.]],\n",
              " \n",
              "        [[225., 206., 191.],\n",
              "         [225., 206., 191.],\n",
              "         [200., 185., 169.],\n",
              "         ...,\n",
              "         [225., 206., 191.],\n",
              "         [225., 206., 191.],\n",
              "         [225., 206., 191.]]], dtype=float32), array([[[236., 193., 166.],\n",
              "         [236., 193., 166.],\n",
              "         [216., 165., 136.],\n",
              "         ...,\n",
              "         [236., 193., 166.],\n",
              "         [236., 193., 166.],\n",
              "         [236., 193., 166.]],\n",
              " \n",
              "        [[236., 193., 166.],\n",
              "         [236., 193., 166.],\n",
              "         [219., 168., 139.],\n",
              "         ...,\n",
              "         [236., 193., 166.],\n",
              "         [236., 193., 166.],\n",
              "         [236., 193., 166.]],\n",
              " \n",
              "        [[236., 193., 166.],\n",
              "         [231., 192., 160.],\n",
              "         [217., 164., 135.],\n",
              "         ...,\n",
              "         [236., 193., 166.],\n",
              "         [236., 193., 166.],\n",
              "         [236., 193., 166.]],\n",
              " \n",
              "        ...,\n",
              " \n",
              "        [[236., 193., 166.],\n",
              "         [236., 193., 166.],\n",
              "         [216., 166., 135.],\n",
              "         ...,\n",
              "         [236., 193., 166.],\n",
              "         [236., 193., 166.],\n",
              "         [236., 193., 166.]],\n",
              " \n",
              "        [[236., 193., 166.],\n",
              "         [236., 193., 166.],\n",
              "         [216., 166., 135.],\n",
              "         ...,\n",
              "         [236., 193., 166.],\n",
              "         [236., 193., 166.],\n",
              "         [236., 193., 166.]],\n",
              " \n",
              "        [[236., 193., 166.],\n",
              "         [236., 193., 166.],\n",
              "         [216., 165., 136.],\n",
              "         ...,\n",
              "         [236., 193., 166.],\n",
              "         [236., 193., 166.],\n",
              "         [236., 193., 166.]]], dtype=float32)]"
            ]
          },
          "metadata": {
            "tags": []
          },
          "execution_count": 23
        }
      ]
    },
    {
      "cell_type": "code",
      "metadata": {
        "colab": {
          "base_uri": "https://localhost:8080/"
        },
        "id": "2oNR38yL_new",
        "outputId": "adaabf85-b1fa-492a-b211-16c8fd4052da"
      },
      "source": [
        "import tensorflow as tf\n",
        "print(tf.__version__)\n",
        "\n",
        "tf.test.is_gpu_available(\n",
        "    cuda_only=False,\n",
        "    min_cuda_compute_capability=None\n",
        ")"
      ],
      "execution_count": 24,
      "outputs": [
        {
          "output_type": "stream",
          "text": [
            "2.4.1\n"
          ],
          "name": "stdout"
        },
        {
          "output_type": "execute_result",
          "data": {
            "text/plain": [
              "True"
            ]
          },
          "metadata": {
            "tags": []
          },
          "execution_count": 24
        }
      ]
    },
    {
      "cell_type": "code",
      "metadata": {
        "id": "1ds69wiOBeKv"
      },
      "source": [
        "# 모든 픽셀 값이 [0, 1]의 범위 내에 오도록 변환합니다 \n",
        "data = np.array(data, dtype=\"float\") / 255.0\n",
        "labels = np.array(labels)\n",
        "# print(\"[INFO] data matrix: {} images ({:.2f}MB)\".format(len(file_list), data.nbytes / (1024 * 1000.0)))"
      ],
      "execution_count": 25,
      "outputs": []
    },
    {
      "cell_type": "code",
      "metadata": {
        "colab": {
          "base_uri": "https://localhost:8080/"
        },
        "id": "e2frUAshDZtQ",
        "outputId": "296c6f44-f417-40b7-d138-8a6677bfd4f5"
      },
      "source": [
        "# scikit-learn의 다중 라벨 이진화 함수를 사용해 라벨을 이진화 합니다\n",
        "print(\"[INFO] class labels:\")\n",
        "mlb = MultiLabelBinarizer()\n",
        "labels = mlb.fit_transform(labels)\n",
        " \n",
        "# 나올 수 있는 모든 라벨들을 출력합니다\n",
        "for (i, label) in enumerate(mlb.classes_):\n",
        "  print(\"{}. {}\".format(i + 1, label))"
      ],
      "execution_count": 26,
      "outputs": [
        {
          "output_type": "stream",
          "text": [
            "[INFO] class labels:\n",
            "1. 갈색\n",
            "2. 갈색, 진한\n",
            "3. 갈색, 투명\n",
            "4. 검정\n",
            "5. 검정, 투명\n",
            "6. 기타\n",
            "7. 남색\n",
            "8. 남색, 투명\n",
            "9. 노랑\n",
            "10. 노랑, 투명\n",
            "11. 마름모형\n",
            "12. 반원형\n",
            "13. 보라\n",
            "14. 보라, 투명\n",
            "15. 분홍\n",
            "16. 분홍, 옅은\n",
            "17. 분홍, 진한\n",
            "18. 분홍, 투명\n",
            "19. 빨강\n",
            "20. 빨강, 투명\n",
            "21. 사각형\n",
            "22. 삼각형\n",
            "23. 연두\n",
            "24. 연두, 투명\n",
            "25. 오각형\n",
            "26. 원형\n",
            "27. 육각형\n",
            "28. 자주\n",
            "29. 자주, 투명\n",
            "30. 장방형\n",
            "31. 주황\n",
            "32. 주황, 투명\n",
            "33. 청록\n",
            "34. 청록, 투명\n",
            "35. 초록\n",
            "36. 초록, 투명\n",
            "37. 타원형\n",
            "38. 투명\n",
            "39. 파랑\n",
            "40. 파랑, 옅은\n",
            "41. 파랑, 투명\n",
            "42. 팔각형\n",
            "43. 하양\n",
            "44. 하양, 갈색\n",
            "45. 하양, 노랑\n",
            "46. 하양, 빨강\n",
            "47. 하양, 주황, 투명\n",
            "48. 하양, 초록\n",
            "49. 하양, 투명\n",
            "50. 하양, 파랑\n",
            "51. 회색\n"
          ],
          "name": "stdout"
        }
      ]
    },
    {
      "cell_type": "code",
      "metadata": {
        "colab": {
          "base_uri": "https://localhost:8080/"
        },
        "id": "VqK0ngzZD05W",
        "outputId": "63573a63-0de4-4906-a998-ad4f649f4a62"
      },
      "source": [
        "mlb.transform([(\"원형\", \"노랑\")])"
      ],
      "execution_count": 27,
      "outputs": [
        {
          "output_type": "execute_result",
          "data": {
            "text/plain": [
              "array([[0, 0, 0, 0, 0, 0, 0, 0, 1, 0, 0, 0, 0, 0, 0, 0, 0, 0, 0, 0, 0, 0,\n",
              "        0, 0, 0, 1, 0, 0, 0, 0, 0, 0, 0, 0, 0, 0, 0, 0, 0, 0, 0, 0, 0, 0,\n",
              "        0, 0, 0, 0, 0, 0, 0]])"
            ]
          },
          "metadata": {
            "tags": []
          },
          "execution_count": 27
        }
      ]
    },
    {
      "cell_type": "code",
      "metadata": {
        "id": "f7qcvsgvrwtL"
      },
      "source": [
        ""
      ],
      "execution_count": 29,
      "outputs": []
    },
    {
      "cell_type": "code",
      "metadata": {
        "id": "JI9WnabjD6zE"
      },
      "source": [
        "# 데이터의 80%를 학습에, 나머지 20%를 테스트에 사용하기 위해\n",
        "# 데이터를 나누는 과정입니다\n",
        "(trainX, testX, trainY, testY) = train_test_split(data,labels, test_size=0.2, random_state=42)\n",
        " \n",
        "# 이미지 오그멘테이션을 위한 제너레이터를 초기화합니다\n",
        "aug = ImageDataGenerator(rotation_range=25, width_shift_range=0.1,\n",
        "\theight_shift_range=0.1, shear_range=0.2, zoom_range=0.2,\n",
        "\thorizontal_flip=True, fill_mode=\"nearest\")"
      ],
      "execution_count": 28,
      "outputs": []
    },
    {
      "cell_type": "code",
      "metadata": {
        "id": "8sZVitWDr0vs"
      },
      "source": [
        "data = []\n",
        "labels = []"
      ],
      "execution_count": null,
      "outputs": []
    },
    {
      "cell_type": "code",
      "metadata": {
        "colab": {
          "base_uri": "https://localhost:8080/"
        },
        "id": "vPlQ3mrVD-11",
        "outputId": "cc9b1353-7a6c-435f-8bc7-da866a1f4e2a"
      },
      "source": [
        "# 다중 라벨 분류를 수행할 수 있도록 sigmoid 활성화 함수를\n",
        "# 네트워크의 마지막 레이어로 설정합니다\n",
        "print(\"[INFO] compiling model...\")\n",
        "model = SmallerVGGNet.build(\n",
        "\twidth=IMAGE_DIMS[1], height=IMAGE_DIMS[0],\n",
        "\tdepth=IMAGE_DIMS[2], classes=len(mlb.classes_),\n",
        "\tfinalAct=\"sigmoid\")\n",
        "\n",
        "# 옵티마이저를 초기화합니다\n",
        "opt = Adam(lr=INIT_LR, decay=INIT_LR / EPOCHS)"
      ],
      "execution_count": 30,
      "outputs": [
        {
          "output_type": "stream",
          "text": [
            "[INFO] compiling model...\n"
          ],
          "name": "stdout"
        }
      ]
    },
    {
      "cell_type": "code",
      "metadata": {
        "colab": {
          "base_uri": "https://localhost:8080/"
        },
        "id": "JwmhVUpZEEJm",
        "outputId": "77c68196-20d6-4953-fe6e-1e43c1beaa4f"
      },
      "source": [
        "# 각각의 결과 라벨을 독립적인 베르누이 분포로 취급하기 위해\n",
        "# 범주형 교차 엔트로피 대신 이진 교차 엔트로피를 사용하여 모델을 컴파일합니다\n",
        "model.compile(loss=\"binary_crossentropy\", optimizer=opt,\n",
        "\tmetrics=[\"accuracy\"])\n",
        " \n",
        "# 네트워크를 학습시킵니다\n",
        "print(\"[INFO] training network...\")\n",
        "H = model.fit_generator(\n",
        "\taug.flow(trainX, trainY, batch_size=BS),\n",
        "\tvalidation_data=(testX, testY),\n",
        "\tsteps_per_epoch=len(trainX) // BS,\n",
        "\tepochs=EPOCHS, verbose=1)"
      ],
      "execution_count": null,
      "outputs": [
        {
          "output_type": "stream",
          "text": [
            "[INFO] training network...\n"
          ],
          "name": "stdout"
        },
        {
          "output_type": "stream",
          "text": [
            "/usr/local/lib/python3.7/dist-packages/tensorflow/python/keras/engine/training.py:1844: UserWarning: `Model.fit_generator` is deprecated and will be removed in a future version. Please use `Model.fit`, which supports generators.\n",
            "  warnings.warn('`Model.fit_generator` is deprecated and '\n"
          ],
          "name": "stderr"
        },
        {
          "output_type": "stream",
          "text": [
            "Epoch 1/75\n",
            "499/499 [==============================] - 70s 74ms/step - loss: 0.3622 - accuracy: 0.1715 - val_loss: 0.1759 - val_accuracy: 0.2039\n",
            "Epoch 2/75\n",
            "499/499 [==============================] - 37s 73ms/step - loss: 0.0538 - accuracy: 0.3061 - val_loss: 0.0888 - val_accuracy: 0.4648\n",
            "Epoch 3/75\n",
            "499/499 [==============================] - 36s 73ms/step - loss: 0.0449 - accuracy: 0.3149 - val_loss: 0.0489 - val_accuracy: 0.2549\n",
            "Epoch 4/75\n",
            "499/499 [==============================] - 36s 73ms/step - loss: 0.0425 - accuracy: 0.3238 - val_loss: 0.0480 - val_accuracy: 0.4786\n",
            "Epoch 5/75\n",
            "499/499 [==============================] - 36s 73ms/step - loss: 0.0402 - accuracy: 0.3227 - val_loss: 0.1043 - val_accuracy: 0.3794\n",
            "Epoch 6/75\n",
            "499/499 [==============================] - 37s 74ms/step - loss: 0.0385 - accuracy: 0.3275 - val_loss: 0.0873 - val_accuracy: 0.2612\n",
            "Epoch 7/75\n",
            "499/499 [==============================] - 37s 73ms/step - loss: 0.0379 - accuracy: 0.3189 - val_loss: 0.0973 - val_accuracy: 0.3328\n",
            "Epoch 8/75\n",
            "499/499 [==============================] - 37s 73ms/step - loss: 0.0351 - accuracy: 0.3480 - val_loss: 0.1887 - val_accuracy: 0.2417\n",
            "Epoch 9/75\n",
            "499/499 [==============================] - 36s 73ms/step - loss: 0.0346 - accuracy: 0.3196 - val_loss: 0.0368 - val_accuracy: 0.2888\n",
            "Epoch 10/75\n",
            "499/499 [==============================] - 36s 73ms/step - loss: 0.0341 - accuracy: 0.3221 - val_loss: 0.1356 - val_accuracy: 0.3401\n",
            "Epoch 11/75\n",
            "499/499 [==============================] - 37s 73ms/step - loss: 0.0321 - accuracy: 0.3238 - val_loss: 0.1431 - val_accuracy: 0.4505\n",
            "Epoch 12/75\n",
            "499/499 [==============================] - 36s 73ms/step - loss: 0.0310 - accuracy: 0.3201 - val_loss: 0.0656 - val_accuracy: 0.4475\n",
            "Epoch 13/75\n",
            "499/499 [==============================] - 37s 74ms/step - loss: 0.0285 - accuracy: 0.3372 - val_loss: 0.3481 - val_accuracy: 0.0456\n",
            "Epoch 14/75\n",
            "499/499 [==============================] - 36s 72ms/step - loss: 0.0293 - accuracy: 0.3348 - val_loss: 0.0805 - val_accuracy: 0.3403\n",
            "Epoch 15/75\n",
            "499/499 [==============================] - 36s 72ms/step - loss: 0.0273 - accuracy: 0.3296 - val_loss: 0.0549 - val_accuracy: 0.4916\n",
            "Epoch 16/75\n",
            "499/499 [==============================] - 36s 72ms/step - loss: 0.0265 - accuracy: 0.3365 - val_loss: 0.0557 - val_accuracy: 0.3211\n",
            "Epoch 17/75\n",
            "499/499 [==============================] - 36s 72ms/step - loss: 0.0259 - accuracy: 0.3432 - val_loss: 0.0356 - val_accuracy: 0.5016\n",
            "Epoch 18/75\n",
            "499/499 [==============================] - 36s 71ms/step - loss: 0.0259 - accuracy: 0.3390 - val_loss: 0.0283 - val_accuracy: 0.3792\n",
            "Epoch 19/75\n",
            "499/499 [==============================] - 36s 72ms/step - loss: 0.0243 - accuracy: 0.3582 - val_loss: 0.0593 - val_accuracy: 0.3772\n",
            "Epoch 20/75\n",
            "499/499 [==============================] - 36s 71ms/step - loss: 0.0240 - accuracy: 0.3592 - val_loss: 0.0616 - val_accuracy: 0.3238\n",
            "Epoch 21/75\n",
            "499/499 [==============================] - 36s 72ms/step - loss: 0.0231 - accuracy: 0.3505 - val_loss: 0.0296 - val_accuracy: 0.4626\n",
            "Epoch 22/75\n",
            "499/499 [==============================] - 36s 72ms/step - loss: 0.0234 - accuracy: 0.3699 - val_loss: 0.1047 - val_accuracy: 0.3997\n",
            "Epoch 23/75\n",
            "499/499 [==============================] - 36s 72ms/step - loss: 0.0237 - accuracy: 0.3877 - val_loss: 0.0450 - val_accuracy: 0.4285\n",
            "Epoch 24/75\n",
            "499/499 [==============================] - 36s 72ms/step - loss: 0.0231 - accuracy: 0.3673 - val_loss: 0.0420 - val_accuracy: 0.3105\n",
            "Epoch 25/75\n",
            "499/499 [==============================] - 36s 71ms/step - loss: 0.0220 - accuracy: 0.3740 - val_loss: 1.0000 - val_accuracy: 0.1968\n",
            "Epoch 26/75\n",
            "499/499 [==============================] - 36s 72ms/step - loss: 0.0235 - accuracy: 0.3635 - val_loss: 0.0293 - val_accuracy: 0.4866\n",
            "Epoch 27/75\n",
            "499/499 [==============================] - 36s 71ms/step - loss: 0.0220 - accuracy: 0.3665 - val_loss: 0.0282 - val_accuracy: 0.4666\n",
            "Epoch 28/75\n",
            "499/499 [==============================] - 36s 72ms/step - loss: 0.0223 - accuracy: 0.3724 - val_loss: 0.1353 - val_accuracy: 0.2920\n",
            "Epoch 29/75\n",
            "499/499 [==============================] - 36s 71ms/step - loss: 0.0216 - accuracy: 0.3548 - val_loss: 0.0205 - val_accuracy: 0.4741\n",
            "Epoch 30/75\n",
            "499/499 [==============================] - 36s 71ms/step - loss: 0.0218 - accuracy: 0.3808 - val_loss: 0.0194 - val_accuracy: 0.3789\n",
            "Epoch 31/75\n",
            "499/499 [==============================] - 36s 72ms/step - loss: 0.0210 - accuracy: 0.3719 - val_loss: 0.0213 - val_accuracy: 0.2847\n",
            "Epoch 32/75\n",
            "499/499 [==============================] - 36s 72ms/step - loss: 0.0209 - accuracy: 0.3839 - val_loss: 0.0376 - val_accuracy: 0.5467\n",
            "Epoch 33/75\n",
            "499/499 [==============================] - 36s 72ms/step - loss: 0.0197 - accuracy: 0.3650 - val_loss: 0.0283 - val_accuracy: 0.3313\n",
            "Epoch 34/75\n",
            "499/499 [==============================] - 36s 72ms/step - loss: 0.0205 - accuracy: 0.3846 - val_loss: 0.0197 - val_accuracy: 0.4748\n",
            "Epoch 35/75\n",
            "499/499 [==============================] - 36s 72ms/step - loss: 0.0201 - accuracy: 0.3917 - val_loss: 0.0481 - val_accuracy: 0.3646\n",
            "Epoch 36/75\n",
            "499/499 [==============================] - 36s 72ms/step - loss: 0.0197 - accuracy: 0.3695 - val_loss: 0.0189 - val_accuracy: 0.3115\n",
            "Epoch 37/75\n",
            "499/499 [==============================] - 36s 72ms/step - loss: 0.0196 - accuracy: 0.3992 - val_loss: 0.0249 - val_accuracy: 0.4884\n",
            "Epoch 38/75\n",
            "499/499 [==============================] - 36s 72ms/step - loss: 0.0193 - accuracy: 0.3686 - val_loss: 0.0380 - val_accuracy: 0.4941\n",
            "Epoch 39/75\n",
            "499/499 [==============================] - 36s 72ms/step - loss: 0.0194 - accuracy: 0.3759 - val_loss: 0.0233 - val_accuracy: 0.3358\n",
            "Epoch 40/75\n",
            "499/499 [==============================] - 36s 72ms/step - loss: 0.0196 - accuracy: 0.3633 - val_loss: 0.0517 - val_accuracy: 0.5535\n",
            "Epoch 41/75\n",
            "499/499 [==============================] - 36s 72ms/step - loss: 0.0189 - accuracy: 0.3752 - val_loss: 0.0193 - val_accuracy: 0.4037\n",
            "Epoch 42/75\n",
            "499/499 [==============================] - 36s 72ms/step - loss: 0.0192 - accuracy: 0.3831 - val_loss: 0.0188 - val_accuracy: 0.4480\n",
            "Epoch 43/75\n",
            "499/499 [==============================] - 36s 72ms/step - loss: 0.0192 - accuracy: 0.3867 - val_loss: 0.0661 - val_accuracy: 0.5249\n",
            "Epoch 44/75\n",
            "499/499 [==============================] - 36s 72ms/step - loss: 0.0189 - accuracy: 0.4052 - val_loss: 0.0574 - val_accuracy: 0.4823\n",
            "Epoch 45/75\n",
            "499/499 [==============================] - 36s 72ms/step - loss: 0.0183 - accuracy: 0.3691 - val_loss: 0.0233 - val_accuracy: 0.4255\n",
            "Epoch 46/75\n",
            "499/499 [==============================] - 36s 72ms/step - loss: 0.0185 - accuracy: 0.3905 - val_loss: 0.0202 - val_accuracy: 0.4385\n",
            "Epoch 47/75\n",
            "499/499 [==============================] - 36s 72ms/step - loss: 0.0194 - accuracy: 0.3830 - val_loss: 0.0285 - val_accuracy: 0.5199\n",
            "Epoch 48/75\n",
            "499/499 [==============================] - 36s 72ms/step - loss: 0.0179 - accuracy: 0.3714 - val_loss: 0.0689 - val_accuracy: 0.4455\n",
            "Epoch 49/75\n",
            "499/499 [==============================] - 36s 72ms/step - loss: 0.0178 - accuracy: 0.3990 - val_loss: 0.0303 - val_accuracy: 0.5054\n",
            "Epoch 50/75\n",
            "499/499 [==============================] - 36s 72ms/step - loss: 0.0182 - accuracy: 0.3855 - val_loss: 0.0250 - val_accuracy: 0.3759\n",
            "Epoch 51/75\n",
            "499/499 [==============================] - 36s 72ms/step - loss: 0.0177 - accuracy: 0.3967 - val_loss: 0.3025 - val_accuracy: 0.1585\n",
            "Epoch 52/75\n",
            "499/499 [==============================] - 36s 72ms/step - loss: 0.0176 - accuracy: 0.3712 - val_loss: 0.0406 - val_accuracy: 0.5212\n",
            "Epoch 53/75\n",
            "499/499 [==============================] - 36s 72ms/step - loss: 0.0172 - accuracy: 0.3814 - val_loss: 0.0245 - val_accuracy: 0.2950\n",
            "Epoch 54/75\n",
            "499/499 [==============================] - 37s 75ms/step - loss: 0.0177 - accuracy: 0.3902 - val_loss: 0.0272 - val_accuracy: 0.4621\n",
            "Epoch 55/75\n",
            "499/499 [==============================] - 36s 72ms/step - loss: 0.0174 - accuracy: 0.3734 - val_loss: 0.0193 - val_accuracy: 0.4017\n",
            "Epoch 56/75\n",
            "499/499 [==============================] - 36s 72ms/step - loss: 0.0169 - accuracy: 0.3986 - val_loss: 0.0208 - val_accuracy: 0.3003\n",
            "Epoch 57/75\n",
            "499/499 [==============================] - 36s 72ms/step - loss: 0.0178 - accuracy: 0.3918 - val_loss: 0.0173 - val_accuracy: 0.3569\n",
            "Epoch 58/75\n",
            "499/499 [==============================] - 36s 72ms/step - loss: 0.0175 - accuracy: 0.3977 - val_loss: 0.0304 - val_accuracy: 0.4573\n",
            "Epoch 59/75\n",
            "499/499 [==============================] - 36s 71ms/step - loss: 0.0173 - accuracy: 0.3883 - val_loss: 0.0608 - val_accuracy: 0.4916\n",
            "Epoch 60/75\n",
            "499/499 [==============================] - 36s 72ms/step - loss: 0.0168 - accuracy: 0.4031 - val_loss: 0.0211 - val_accuracy: 0.2988\n",
            "Epoch 61/75\n",
            "499/499 [==============================] - 36s 72ms/step - loss: 0.0168 - accuracy: 0.3949 - val_loss: 0.0521 - val_accuracy: 0.4563\n",
            "Epoch 62/75\n",
            "499/499 [==============================] - 36s 72ms/step - loss: 0.0169 - accuracy: 0.3873 - val_loss: 0.0348 - val_accuracy: 0.4310\n",
            "Epoch 63/75\n",
            "499/499 [==============================] - 36s 72ms/step - loss: 0.0164 - accuracy: 0.4036 - val_loss: 0.0193 - val_accuracy: 0.4358\n",
            "Epoch 64/75\n",
            "270/499 [===============>..............] - ETA: 16s - loss: 0.0165 - accuracy: 0.3755"
          ],
          "name": "stdout"
        }
      ]
    },
    {
      "cell_type": "code",
      "metadata": {
        "id": "DiSor1biED_V"
      },
      "source": [
        "# 모델을 디스크에 저장합니다\n",
        "from keras.models import load_model\n",
        "\n",
        "model.save('multilabel_model.h5')\n",
        "\n",
        "# print(\"[INFO] serializing network...\")\n",
        "# model.save(args[\"model\"])\n",
        " \n",
        "# `MultiLabelBinarizer`를 디스크에 저장합니다\n",
        "print(\"[INFO] serializing label binarizer...\")\n",
        "f = open('/content/labelbin.txt', \"wb\")\n",
        "f.write(pickle.dumps(mlb))\n",
        "f.close()"
      ],
      "execution_count": null,
      "outputs": []
    },
    {
      "cell_type": "code",
      "metadata": {
        "id": "zYg1hKzMF_Rc"
      },
      "source": [
        "H.history"
      ],
      "execution_count": null,
      "outputs": []
    },
    {
      "cell_type": "code",
      "metadata": {
        "id": "qIOh-AxGE1B2"
      },
      "source": [
        "from matplotlib import pyplot as plt\n",
        "%matplotlib inline\n",
        "# 학습 로스와 정확도를 그래프로 그려줍니다\n",
        "plt.style.use(\"ggplot\")\n",
        "plt.figure()\n",
        "N = EPOCHS\n",
        "plt.plot(np.arange(0, N), H.history[\"loss\"], label=\"train_loss\")\n",
        "plt.plot(np.arange(0, N), H.history[\"val_loss\"], label=\"val_loss\")\n",
        "plt.plot(np.arange(0, N), H.history[\"accuracy\"], label=\"train_acc\")\n",
        "plt.plot(np.arange(0, N), H.history[\"val_accuracy\"], label=\"val_acc\")\n",
        "plt.title(\"Training Loss and Accuracy\")\n",
        "plt.xlabel(\"Epoch #\")\n",
        "plt.ylabel(\"Loss/Accuracy\")\n",
        "plt.legend(loc=\"upper left\")\n",
        "plt.show()\n",
        "plt.savefig(args[\"plot\"])"
      ],
      "execution_count": null,
      "outputs": []
    },
    {
      "cell_type": "code",
      "metadata": {
        "id": "gvGcWUjSHTde"
      },
      "source": [
        "# loss, acc curve\n",
        "\n",
        "acc = H.history['accuracy']\n",
        "val_acc = H.history['val_accuracy']\n",
        "\n",
        "loss = H.history['loss']\n",
        "val_loss = H.history['val_loss']\n",
        "\n",
        "epochs_range = range(EPOCHS)\n",
        "\n",
        "plt.figure(figsize=(8, 8))\n",
        "plt.subplot(1, 2, 1)\n",
        "plt.plot(epochs_range, acc, label='Training Accuracy')\n",
        "plt.plot(epochs_range, val_acc, label='Validation Accuracy')\n",
        "plt.legend(loc='lower right')\n",
        "plt.title('Training and Valid Accuracy')\n",
        "\n",
        "plt.subplot(1, 2, 2)\n",
        "plt.plot(epochs_range, loss, label='Training Loss')\n",
        "plt.plot(epochs_range, val_loss, label='Validation Loss')\n",
        "plt.legend(loc='upper right')\n",
        "plt.title('Training and Valid Loss')\n",
        "plt.show()"
      ],
      "execution_count": null,
      "outputs": []
    },
    {
      "cell_type": "markdown",
      "metadata": {
        "id": "5WhnuGHyGsAB"
      },
      "source": [
        "새로운 이미지에 적용"
      ]
    },
    {
      "cell_type": "code",
      "metadata": {
        "id": "ihw_0lWVIcPR"
      },
      "source": [
        "# 필요한 패키지들을 가져옵니다\n",
        "from keras.preprocessing.image import img_to_array\n",
        "from keras.models import load_model\n",
        "import numpy as np\n",
        "import argparse\n",
        "import imutils\n",
        "import pickle\n",
        "import cv2\n",
        "import os\n",
        "from google.colab.patches import cv2_imshow\n",
        "from PIL import ImageFont, ImageDraw, Image"
      ],
      "execution_count": null,
      "outputs": []
    },
    {
      "cell_type": "code",
      "metadata": {
        "id": "X5_Q9LnUE05w"
      },
      "source": [
        "def test(img_dir):\n",
        "  \n",
        "  # 이미지를 로드합니다\n",
        "  image = cv2.imread(img_dir)\n",
        "  output = imutils.resize(image, width=400)\n",
        "  \n",
        "  # # 분류를 위한 이미지 전처리를 수행합니다\n",
        "  image = cv2.resize(image, (96, 96))\n",
        "  image = image.astype(\"float\") / 255.0\n",
        "  image = img_to_array(image)\n",
        "  image = np.expand_dims(image, axis=0)\n",
        "  # # 학습된 네트워크와 `MultiLabelBinarizer`를 로드합니다\n",
        "  print(\"[INFO] loading network...\")\n",
        "  model = load_model('/content/multilabel_model.h5')\n",
        "  mlb = pickle.loads(open('/content/labelbin.txt', \"rb\").read())\n",
        "\n",
        "  # # 이미지에 대한 분류를 수행한 후, \n",
        "  # # 확률이 가장 높은 두 개의 클래스 라벨을 찾습니다\n",
        "  print(\"[INFO] classifying image...\")\n",
        "  proba = model.predict(image)[0]\n",
        "  idxs = np.argsort(proba)[::-1][:2]\n",
        "\n",
        "  # # 확률이 높은 라벨들에 대해 아래의 반복문을 수행합니다\n",
        "\n",
        "  for (i, j) in enumerate(idxs):\n",
        "    label = \"{}: {:.2f}%\".format(mlb.classes_[j], proba[j] * 100)\n",
        "    cv2.putText(output, label, (10, (i * 30) + 25), \n",
        "      cv2.FONT_HERSHEY_SIMPLEX, 0.7, (0, 255, 0), 2)\n",
        "\n",
        "  # 각 라벨에 대한 확률을 출력합니다\n",
        "  for (label, p) in zip(mlb.classes_, proba):\n",
        "    print(\"{}: {:.2f}%\".format(label, p * 100))\n",
        " \n",
        "  # 결과 이미지를 출력합니다\n",
        "  cv2_imshow(output)\n",
        "  cv2.waitKey(0)\n"
      ],
      "execution_count": null,
      "outputs": []
    },
    {
      "cell_type": "code",
      "metadata": {
        "id": "9lz-NhXxHy2F"
      },
      "source": [
        "test('/content/test/out5.jpg')"
      ],
      "execution_count": null,
      "outputs": []
    },
    {
      "cell_type": "markdown",
      "metadata": {
        "id": "T-eA17UeE0tP"
      },
      "source": [
        ""
      ]
    },
    {
      "cell_type": "code",
      "metadata": {
        "id": "EaCTX2eFv6LO"
      },
      "source": [
        "testpath = '/content/test'"
      ],
      "execution_count": null,
      "outputs": []
    },
    {
      "cell_type": "code",
      "metadata": {
        "id": "tjVO_iLcvvhv"
      },
      "source": [
        "test_list = os.listdir(testpath)\n",
        "test_list"
      ],
      "execution_count": null,
      "outputs": []
    },
    {
      "cell_type": "code",
      "metadata": {
        "id": "ZcaPOq2TjVwq"
      },
      "source": [
        "#png 파일 있으면 jpg 로 변환해주기\n",
        "\n",
        "for sampleimg in test_list :\n",
        "  if os.path.splitext(sampleimg)[-1] != '.jpg':\n",
        "    im = Image.open(testpath + '/'+sampleimg)\n",
        "    im = im.convert(\"RGB\")\n",
        "    im.save(testpath + '/'+'%s.jpg'%os.path.splitext(sampleimg)[0])\n",
        "    print(sampleimg)\n",
        "    os.remove(testpath + '/'+sampleimg)\n",
        "\n"
      ],
      "execution_count": null,
      "outputs": []
    },
    {
      "cell_type": "code",
      "metadata": {
        "id": "39TazvYjFTtU"
      },
      "source": [
        ""
      ],
      "execution_count": null,
      "outputs": []
    }
  ]
}